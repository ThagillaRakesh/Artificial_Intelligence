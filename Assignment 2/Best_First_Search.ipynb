{
 "cells": [
  {
   "cell_type": "code",
   "execution_count": 1,
   "id": "e3890b9c",
   "metadata": {},
   "outputs": [],
   "source": [
    "import heapq\n",
    "import math\n",
    "\n",
    "def heuristic(a, b):\n",
    "    return math.hypot(a[0] - b[0], a[1] - b[1])"
   ]
  },
  {
   "cell_type": "code",
   "execution_count": 2,
   "id": "96caf297",
   "metadata": {},
   "outputs": [],
   "source": [
    "def neighbors(pos, n):\n",
    "    i, j = pos\n",
    "    for di in (-1, 0, 1):\n",
    "        for dj in (-1, 0, 1):\n",
    "            if di == 0 and dj == 0:\n",
    "                continue\n",
    "            ni, nj = i + di, j + dj\n",
    "            if 0 <= ni < n and 0 <= nj < n:\n",
    "                yield (ni, nj)"
   ]
  },
  {
   "cell_type": "code",
   "execution_count": 3,
   "id": "5f620b51",
   "metadata": {},
   "outputs": [],
   "source": [
    "def reconstruct_path(came_from, end):\n",
    "    path = []\n",
    "    cur = end\n",
    "    while cur is not None:\n",
    "        path.append(cur)\n",
    "        cur = came_from.get(cur, None)\n",
    "    path.reverse()\n",
    "    return path"
   ]
  },
  {
   "cell_type": "code",
   "execution_count": 4,
   "id": "7d9210dc",
   "metadata": {},
   "outputs": [],
   "source": [
    "def best_first_search(grid):\n",
    "    n = len(grid)\n",
    "    if n == 0:\n",
    "        return None, -1\n",
    "\n",
    "    start = (0, 0)\n",
    "    goal = (n - 1, n - 1)\n",
    "\n",
    "    if grid[0][0] != 0 or grid[goal[0]][goal[1]] != 0:\n",
    "    \n",
    "        return None, -1\n",
    "\n",
    "    open_heap = []\n",
    "    start_h = heuristic(start, goal)\n",
    "\n",
    "    heapq.heappush(open_heap, (start_h, start))\n",
    "\n",
    "    came_from = {start: None}\n",
    "    visited = set()           \n",
    "\n",
    "    while open_heap:\n",
    "        _, current = heapq.heappop(open_heap)\n",
    "\n",
    "        if current in visited:\n",
    "            continue\n",
    "\n",
    "        visited.add(current)\n",
    "\n",
    "        if current == goal:\n",
    "            path = reconstruct_path(came_from, goal)\n",
    "            return path, len(path)\n",
    "\n",
    "        for nb in neighbors(current, n):\n",
    "            i, j = nb\n",
    "            if grid[i][j] != 0:\n",
    "   \n",
    "                continue\n",
    "            if nb in visited:\n",
    "                continue\n",
    "\n",
    "            if nb not in came_from:\n",
    "                came_from[nb] = current\n",
    "                heapq.heappush(open_heap, (heuristic(nb, goal), nb))\n",
    "\n",
    "    return None, -1"
   ]
  },
  {
   "cell_type": "code",
   "execution_count": 5,
   "id": "0bb3f88d",
   "metadata": {},
   "outputs": [
    {
     "name": "stdout",
     "output_type": "stream",
     "text": [
      "\n",
      "Example 1\n",
      "Best First Search → Path length: 2, Path: [(0, 0), (1, 1)]\n",
      "\n",
      "Example 2\n",
      "Best First Search → Path length: 4, Path: [(0, 0), (0, 1), (1, 2), (2, 2)]\n",
      "\n",
      "Example 3\n",
      "Best First Search → Path length: -1, Path: []\n"
     ]
    }
   ],
   "source": [
    "if __name__ == \"__main__\":\n",
    "    tests = [\n",
    "        ([[0,1],[1,0]], \"Example 1\"),\n",
    "        ([[0,0,0],[1,1,0],[1,1,0]], \"Example 2\"),\n",
    "        ([[1,0,0],[1,1,0],[1,1,0]], \"Example 3\")\n",
    "    ]\n",
    "\n",
    "    for grid, title in tests:\n",
    "        print(\"\\n\" + title)\n",
    "        path, length = best_first_search(grid)\n",
    "        if path is None:\n",
    "            print(\"Best First Search → Path length: -1, Path: []\")\n",
    "        else:\n",
    "            print(\"Best First Search → Path length: {}, Path: {}\".format(length, path))"
   ]
  }
 ],
 "metadata": {
  "kernelspec": {
   "display_name": "Python 3",
   "language": "python",
   "name": "python3"
  },
  "language_info": {
   "codemirror_mode": {
    "name": "ipython",
    "version": 3
   },
   "file_extension": ".py",
   "mimetype": "text/x-python",
   "name": "python",
   "nbconvert_exporter": "python",
   "pygments_lexer": "ipython3",
   "version": "3.11.9"
  }
 },
 "nbformat": 4,
 "nbformat_minor": 5
}
