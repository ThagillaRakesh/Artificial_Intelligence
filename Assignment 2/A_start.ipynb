{
 "cells": [
  {
   "cell_type": "code",
   "execution_count": 1,
   "id": "7f17b0b1",
   "metadata": {},
   "outputs": [],
   "source": [
    "import heapq\n",
    "import math\n",
    "\n",
    "def heuristic(a, b):\n",
    "    return math.hypot(a[0] - b[0], a[1] - b[1])"
   ]
  },
  {
   "cell_type": "code",
   "execution_count": 2,
   "id": "c6cbc51b",
   "metadata": {},
   "outputs": [],
   "source": [
    "def neighbors(pos, n):\n",
    "    i, j = pos\n",
    "    for di in (-1, 0, 1):\n",
    "        for dj in (-1, 0, 1):\n",
    "            if di == 0 and dj == 0:\n",
    "                continue\n",
    "            ni, nj = i + di, j + dj\n",
    "            if 0 <= ni < n and 0 <= nj < n:\n",
    "                yield (ni, nj)"
   ]
  },
  {
   "cell_type": "code",
   "execution_count": 4,
   "id": "60813421",
   "metadata": {},
   "outputs": [],
   "source": [
    "def reconstruct_path(came_from, end):\n",
    "    path = []\n",
    "    cur = end\n",
    "    while cur is not None:\n",
    "        path.append(cur)\n",
    "        cur = came_from.get(cur, None)\n",
    "    path.reverse()\n",
    "    return path"
   ]
  },
  {
   "cell_type": "code",
   "execution_count": 5,
   "id": "7f7ac847",
   "metadata": {},
   "outputs": [],
   "source": [
    "def a_star_search(grid):\n",
    "\n",
    "    n = len(grid)\n",
    "    if n == 0:\n",
    "        return None, -1\n",
    "\n",
    "    start = (0, 0)\n",
    "    goal = (n - 1, n - 1)\n",
    "\n",
    "\n",
    "    if grid[0][0] != 0 or grid[goal[0]][goal[1]] != 0:\n",
    "        return None, -1\n",
    "\n",
    "    if start == goal:\n",
    "        return [start], 1\n",
    "\n",
    "    open_heap = []\n",
    "    g_score = {start: 0}\n",
    "    f_score = {start: heuristic(start, goal)}\n",
    "    heapq.heappush(open_heap, (f_score[start], start))\n",
    "    came_from = {start: None}\n",
    "    closed = set()\n",
    "\n",
    "    while open_heap:\n",
    "        _, current = heapq.heappop(open_heap)\n",
    "\n",
    "        if current in closed:\n",
    "            continue\n",
    "\n",
    "        if current == goal:\n",
    "            path = reconstruct_path(came_from, goal)\n",
    "            return path, len(path)\n",
    "\n",
    "        closed.add(current)\n",
    "\n",
    "        for nb in neighbors(current, n):\n",
    "            i, j = nb\n",
    "            if grid[i][j] != 0:\n",
    "                continue  \n",
    "\n",
    "            tentative_g = g_score[current] + 1  \n",
    "\n",
    "            if nb in closed and tentative_g >= g_score.get(nb, float('inf')):\n",
    "                continue\n",
    "\n",
    "            if tentative_g < g_score.get(nb, float('inf')):\n",
    "                came_from[nb] = current\n",
    "                g_score[nb] = tentative_g\n",
    "                f_score[nb] = tentative_g + heuristic(nb, goal)\n",
    "                heapq.heappush(open_heap, (f_score[nb], nb))\n",
    "\n",
    "    return None, -1"
   ]
  },
  {
   "cell_type": "code",
   "execution_count": 6,
   "id": "458bd610",
   "metadata": {},
   "outputs": [
    {
     "name": "stdout",
     "output_type": "stream",
     "text": [
      "\n",
      "Example 1\n",
      "A* Search → Path length: 2, Path: [(0, 0), (1, 1)]\n",
      "\n",
      "Example 2\n",
      "A* Search → Path length: 4, Path: [(0, 0), (0, 1), (1, 2), (2, 2)]\n",
      "\n",
      "Example 3\n",
      "A* Search → Path length: -1, Path: []\n"
     ]
    }
   ],
   "source": [
    "if __name__ == \"__main__\":\n",
    "    tests = [\n",
    "        ([[0,1],[1,0]], \"Example 1\"),\n",
    "        ([[0,0,0],[1,1,0],[1,1,0]], \"Example 2\"),\n",
    "        ([[1,0,0],[1,1,0],[1,1,0]], \"Example 3\")\n",
    "    ]\n",
    "\n",
    "    for grid, title in tests:\n",
    "        print(\"\\n\" + title)\n",
    "\n",
    "        g = [[int(x) for x in row] for row in grid]\n",
    "        path, length = a_star_search(g)\n",
    "        if path is None:\n",
    "            print(\"A* Search → Path length: -1, Path: []\")\n",
    "        else:\n",
    "            print(\"A* Search → Path length: {}, Path: {}\".format(length, path))"
   ]
  }
 ],
 "metadata": {
  "kernelspec": {
   "display_name": "Python 3",
   "language": "python",
   "name": "python3"
  },
  "language_info": {
   "codemirror_mode": {
    "name": "ipython",
    "version": 3
   },
   "file_extension": ".py",
   "mimetype": "text/x-python",
   "name": "python",
   "nbconvert_exporter": "python",
   "pygments_lexer": "ipython3",
   "version": "3.11.9"
  }
 },
 "nbformat": 4,
 "nbformat_minor": 5
}
